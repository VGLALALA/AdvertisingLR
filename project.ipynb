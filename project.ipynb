{
 "cells": [
  {
   "cell_type": "markdown",
   "id": "40835177-ee32-418a-b175-2242173e4b1b",
   "metadata": {},
   "source": [
    "# Main Project"
   ]
  },
  {
   "cell_type": "markdown",
   "id": "89409cfb-d895-4413-a271-ebc60b41089f",
   "metadata": {},
   "source": [
    "## Objective"
   ]
  },
  {
   "cell_type": "markdown",
   "id": "83b15ee5-6053-4462-bbdd-aa532b5f0ab8",
   "metadata": {},
   "source": [
    "To develop an accurate model that can be used to predict sales on the basis of the three media budgets"
   ]
  },
  {
   "cell_type": "markdown",
   "id": "76378933-17ee-4883-8f89-ed03f25cd8ac",
   "metadata": {},
   "source": [
    "## Import Dependencies"
   ]
  },
  {
   "cell_type": "code",
   "execution_count": 272,
   "id": "592b2305-25ea-4e5d-930a-788be32f2bf4",
   "metadata": {},
   "outputs": [],
   "source": [
    "import pandas as pd\n",
    "import numpy as np\n",
    "import matplotlib.pyplot as plt\n",
    "from sklearn.linear_model import LinearRegression\n",
    "from sklearn.metrics import mean_squared_error"
   ]
  },
  {
   "cell_type": "markdown",
   "id": "a63d15b0-0ef2-4efe-b83b-0f4ed121805b",
   "metadata": {},
   "source": [
    "## Data Processing"
   ]
  },
  {
   "cell_type": "code",
   "execution_count": 273,
   "id": "185f4097-8878-4cd6-99b8-a5c064c16a7e",
   "metadata": {},
   "outputs": [],
   "source": [
    "df = pd.read_csv('Advertising.csv')"
   ]
  },
  {
   "cell_type": "code",
   "execution_count": 274,
   "id": "f5763106-cc7b-4f84-b5f3-bb2debe88c14",
   "metadata": {},
   "outputs": [
    {
     "data": {
      "text/html": [
       "<div>\n",
       "<style scoped>\n",
       "    .dataframe tbody tr th:only-of-type {\n",
       "        vertical-align: middle;\n",
       "    }\n",
       "\n",
       "    .dataframe tbody tr th {\n",
       "        vertical-align: top;\n",
       "    }\n",
       "\n",
       "    .dataframe thead th {\n",
       "        text-align: right;\n",
       "    }\n",
       "</style>\n",
       "<table border=\"1\" class=\"dataframe\">\n",
       "  <thead>\n",
       "    <tr style=\"text-align: right;\">\n",
       "      <th></th>\n",
       "      <th>Unnamed: 0</th>\n",
       "      <th>TV</th>\n",
       "      <th>Radio</th>\n",
       "      <th>Newspaper</th>\n",
       "      <th>Sales</th>\n",
       "    </tr>\n",
       "  </thead>\n",
       "  <tbody>\n",
       "    <tr>\n",
       "      <th>0</th>\n",
       "      <td>1</td>\n",
       "      <td>230.1</td>\n",
       "      <td>37.8</td>\n",
       "      <td>69.2</td>\n",
       "      <td>22.1</td>\n",
       "    </tr>\n",
       "    <tr>\n",
       "      <th>1</th>\n",
       "      <td>2</td>\n",
       "      <td>44.5</td>\n",
       "      <td>39.3</td>\n",
       "      <td>45.1</td>\n",
       "      <td>10.4</td>\n",
       "    </tr>\n",
       "    <tr>\n",
       "      <th>2</th>\n",
       "      <td>3</td>\n",
       "      <td>17.2</td>\n",
       "      <td>45.9</td>\n",
       "      <td>69.3</td>\n",
       "      <td>9.3</td>\n",
       "    </tr>\n",
       "    <tr>\n",
       "      <th>3</th>\n",
       "      <td>4</td>\n",
       "      <td>151.5</td>\n",
       "      <td>41.3</td>\n",
       "      <td>58.5</td>\n",
       "      <td>18.5</td>\n",
       "    </tr>\n",
       "    <tr>\n",
       "      <th>4</th>\n",
       "      <td>5</td>\n",
       "      <td>180.8</td>\n",
       "      <td>10.8</td>\n",
       "      <td>58.4</td>\n",
       "      <td>12.9</td>\n",
       "    </tr>\n",
       "    <tr>\n",
       "      <th>...</th>\n",
       "      <td>...</td>\n",
       "      <td>...</td>\n",
       "      <td>...</td>\n",
       "      <td>...</td>\n",
       "      <td>...</td>\n",
       "    </tr>\n",
       "    <tr>\n",
       "      <th>195</th>\n",
       "      <td>196</td>\n",
       "      <td>38.2</td>\n",
       "      <td>3.7</td>\n",
       "      <td>13.8</td>\n",
       "      <td>7.6</td>\n",
       "    </tr>\n",
       "    <tr>\n",
       "      <th>196</th>\n",
       "      <td>197</td>\n",
       "      <td>94.2</td>\n",
       "      <td>4.9</td>\n",
       "      <td>8.1</td>\n",
       "      <td>9.7</td>\n",
       "    </tr>\n",
       "    <tr>\n",
       "      <th>197</th>\n",
       "      <td>198</td>\n",
       "      <td>177.0</td>\n",
       "      <td>9.3</td>\n",
       "      <td>6.4</td>\n",
       "      <td>12.8</td>\n",
       "    </tr>\n",
       "    <tr>\n",
       "      <th>198</th>\n",
       "      <td>199</td>\n",
       "      <td>283.6</td>\n",
       "      <td>42.0</td>\n",
       "      <td>66.2</td>\n",
       "      <td>25.5</td>\n",
       "    </tr>\n",
       "    <tr>\n",
       "      <th>199</th>\n",
       "      <td>200</td>\n",
       "      <td>232.1</td>\n",
       "      <td>8.6</td>\n",
       "      <td>8.7</td>\n",
       "      <td>13.4</td>\n",
       "    </tr>\n",
       "  </tbody>\n",
       "</table>\n",
       "<p>200 rows × 5 columns</p>\n",
       "</div>"
      ],
      "text/plain": [
       "     Unnamed: 0     TV  Radio  Newspaper  Sales\n",
       "0             1  230.1   37.8       69.2   22.1\n",
       "1             2   44.5   39.3       45.1   10.4\n",
       "2             3   17.2   45.9       69.3    9.3\n",
       "3             4  151.5   41.3       58.5   18.5\n",
       "4             5  180.8   10.8       58.4   12.9\n",
       "..          ...    ...    ...        ...    ...\n",
       "195         196   38.2    3.7       13.8    7.6\n",
       "196         197   94.2    4.9        8.1    9.7\n",
       "197         198  177.0    9.3        6.4   12.8\n",
       "198         199  283.6   42.0       66.2   25.5\n",
       "199         200  232.1    8.6        8.7   13.4\n",
       "\n",
       "[200 rows x 5 columns]"
      ]
     },
     "execution_count": 274,
     "metadata": {},
     "output_type": "execute_result"
    }
   ],
   "source": [
    "df"
   ]
  },
  {
   "cell_type": "markdown",
   "id": "be0aaec2-e25c-412b-a1d9-564613565d49",
   "metadata": {},
   "source": [
    "### Dataset Description\n",
    "\n",
    "#### Original Dataset Description (Provided by Client):\n",
    "\n",
    "- TV: Advertising spend in thousands (K) of Canadian Dollars ($)\n",
    "\n",
    "- Radio: Advertising spend in thousands (K) of Canadian Dollars ($)\n",
    "\n",
    "- Newspaper: Advertising spend in thousands (K) of Canadian Dollars ($)\n",
    "\n",
    "- Sales: Sales in thousands (K) of Canadian Dollars ($)\n",
    "\n",
    "Upon initial inspection, the units appeared inconsistent, as the advertising costs exceeded the reported sales figures. After confirming with the client, the unit for Sales has been revised for accuracy.\n",
    "\n",
    "#### Updated Dataset Description (Confirmed by Client):\n",
    "\n",
    "- TV: Advertising spend in thousands (K) of Canadian Dollars ($)\n",
    "\n",
    "- Radio: Advertising spend in thousands (K) of Canadian Dollars ($)\n",
    "\n",
    "- Newspaper: Advertising spend in thousands (K) of Canadian Dollars ($)\n",
    "\n",
    "- Sales: Sales volume in thousands (K) of units\n",
    "\n"
   ]
  },
  {
   "cell_type": "markdown",
   "id": "4a7ab41c-57a0-409d-92ad-5ed6fef75edd",
   "metadata": {},
   "source": [
    "### Dataset Visualization "
   ]
  },
  {
   "cell_type": "code",
   "execution_count": 275,
   "id": "73a81e94-f9a7-4e2b-b63d-a7b600bb304b",
   "metadata": {},
   "outputs": [
    {
     "data": {
      "image/png": "[encoded data removed]",
      "text/plain": [
       "<Figure size 1400x300 with 5 Axes>"
      ]
     },
     "metadata": {},
     "output_type": "display_data"
    }
   ],
   "source": [
    "plt.figure(figsize=(14,3))\n",
    "for i, col in enumerate(df):\n",
    "    plt.subplot(1,5,i+1)\n",
    "    plt.title(col)\n",
    "    plt.scatter(np.arange(200),df[col])"
   ]
  },
  {
   "cell_type": "markdown",
   "id": "1ba0621b-4bf9-43ee-a1dc-aaae3dbcabf5",
   "metadata": {},
   "source": [
    "Upon reviewing the dataset and visualizing the \"Unnamed: 0\" column, we observed that it serves only as a row index. This was further confirmed through communication with the client.\n",
    "\n",
    "As this column does not carry any meaningful information or predictive value, it will not contribute to improving the accuracy of our model. Therefore, we have decided to drop it from the dataset during preprocessing."
   ]
  },
  {
   "cell_type": "code",
   "execution_count": 276,
   "id": "2aebfd3b-d76e-4907-8b38-f00beeb556ba",
   "metadata": {},
   "outputs": [],
   "source": [
    "df = df.drop(['Unnamed: 0'],axis=1) "
   ]
  },
  {
   "cell_type": "code",
   "execution_count": 277,
   "id": "b738cebe-435c-469b-b774-8b0c71a7af55",
   "metadata": {},
   "outputs": [
    {
     "data": {
      "text/html": [
       "<div>\n",
       "<style scoped>\n",
       "    .dataframe tbody tr th:only-of-type {\n",
       "        vertical-align: middle;\n",
       "    }\n",
       "\n",
       "    .dataframe tbody tr th {\n",
       "        vertical-align: top;\n",
       "    }\n",
       "\n",
       "    .dataframe thead th {\n",
       "        text-align: right;\n",
       "    }\n",
       "</style>\n",
       "<table border=\"1\" class=\"dataframe\">\n",
       "  <thead>\n",
       "    <tr style=\"text-align: right;\">\n",
       "      <th></th>\n",
       "      <th>TV</th>\n",
       "      <th>Radio</th>\n",
       "      <th>Newspaper</th>\n",
       "      <th>Sales</th>\n",
       "    </tr>\n",
       "  </thead>\n",
       "  <tbody>\n",
       "    <tr>\n",
       "      <th>0</th>\n",
       "      <td>230.1</td>\n",
       "      <td>37.8</td>\n",
       "      <td>69.2</td>\n",
       "      <td>22.1</td>\n",
       "    </tr>\n",
       "    <tr>\n",
       "      <th>1</th>\n",
       "      <td>44.5</td>\n",
       "      <td>39.3</td>\n",
       "      <td>45.1</td>\n",
       "      <td>10.4</td>\n",
       "    </tr>\n",
       "    <tr>\n",
       "      <th>2</th>\n",
       "      <td>17.2</td>\n",
       "      <td>45.9</td>\n",
       "      <td>69.3</td>\n",
       "      <td>9.3</td>\n",
       "    </tr>\n",
       "    <tr>\n",
       "      <th>3</th>\n",
       "      <td>151.5</td>\n",
       "      <td>41.3</td>\n",
       "      <td>58.5</td>\n",
       "      <td>18.5</td>\n",
       "    </tr>\n",
       "    <tr>\n",
       "      <th>4</th>\n",
       "      <td>180.8</td>\n",
       "      <td>10.8</td>\n",
       "      <td>58.4</td>\n",
       "      <td>12.9</td>\n",
       "    </tr>\n",
       "    <tr>\n",
       "      <th>...</th>\n",
       "      <td>...</td>\n",
       "      <td>...</td>\n",
       "      <td>...</td>\n",
       "      <td>...</td>\n",
       "    </tr>\n",
       "    <tr>\n",
       "      <th>195</th>\n",
       "      <td>38.2</td>\n",
       "      <td>3.7</td>\n",
       "      <td>13.8</td>\n",
       "      <td>7.6</td>\n",
       "    </tr>\n",
       "    <tr>\n",
       "      <th>196</th>\n",
       "      <td>94.2</td>\n",
       "      <td>4.9</td>\n",
       "      <td>8.1</td>\n",
       "      <td>9.7</td>\n",
       "    </tr>\n",
       "    <tr>\n",
       "      <th>197</th>\n",
       "      <td>177.0</td>\n",
       "      <td>9.3</td>\n",
       "      <td>6.4</td>\n",
       "      <td>12.8</td>\n",
       "    </tr>\n",
       "    <tr>\n",
       "      <th>198</th>\n",
       "      <td>283.6</td>\n",
       "      <td>42.0</td>\n",
       "      <td>66.2</td>\n",
       "      <td>25.5</td>\n",
       "    </tr>\n",
       "    <tr>\n",
       "      <th>199</th>\n",
       "      <td>232.1</td>\n",
       "      <td>8.6</td>\n",
       "      <td>8.7</td>\n",
       "      <td>13.4</td>\n",
       "    </tr>\n",
       "  </tbody>\n",
       "</table>\n",
       "<p>200 rows × 4 columns</p>\n",
       "</div>"
      ],
      "text/plain": [
       "        TV  Radio  Newspaper  Sales\n",
       "0    230.1   37.8       69.2   22.1\n",
       "1     44.5   39.3       45.1   10.4\n",
       "2     17.2   45.9       69.3    9.3\n",
       "3    151.5   41.3       58.5   18.5\n",
       "4    180.8   10.8       58.4   12.9\n",
       "..     ...    ...        ...    ...\n",
       "195   38.2    3.7       13.8    7.6\n",
       "196   94.2    4.9        8.1    9.7\n",
       "197  177.0    9.3        6.4   12.8\n",
       "198  283.6   42.0       66.2   25.5\n",
       "199  232.1    8.6        8.7   13.4\n",
       "\n",
       "[200 rows x 4 columns]"
      ]
     },
     "execution_count": 277,
     "metadata": {},
     "output_type": "execute_result"
    }
   ],
   "source": [
    "df"
   ]
  },
  {
   "cell_type": "markdown",
   "id": "d001df6e-874e-4004-b50e-2e77518115e3",
   "metadata": {},
   "source": [
    "### Mean Median Mode"
   ]
  },
  {
   "cell_type": "code",
   "execution_count": 278,
   "id": "75dd3090-39dc-4a7f-96e6-d54cd67477ae",
   "metadata": {},
   "outputs": [
    {
     "name": "stdout",
     "output_type": "stream",
     "text": [
      "147.0425\n",
      "23.264000000000006\n",
      "30.553999999999995\n",
      "14.0225\n"
     ]
    }
   ],
   "source": [
    "for val in df:\n",
    "    m = df[val].mean()\n",
    "    print(m)"
   ]
  },
  {
   "cell_type": "code",
   "execution_count": 279,
   "id": "ae833c62-da78-44ae-8987-1a82e5456210",
   "metadata": {},
   "outputs": [
    {
     "data": {
      "image/png": "[encoded data removed]",
      "text/plain": [
       "<Figure size 1400x300 with 4 Axes>"
      ]
     },
     "metadata": {},
     "output_type": "display_data"
    }
   ],
   "source": [
    "plt.figure(figsize=(14, 3))\n",
    "for i, col in enumerate(df.columns):\n",
    "    plt.subplot(1, 4, i+1) \n",
    "    plt.title(col)\n",
    "    plt.hist(df[col], bins=15,edgecolor='black')\n",
    "\n",
    "    meanh = df[col].mean()\n",
    "    medh = df[col].median()\n",
    "    modh = df[col].mode()[0]\n",
    "\n",
    "    plt.axvline(meanh, color='red', linestyle='dashed', linewidth=2, label='mean')\n",
    "    plt.axvline(medh, color='green', linestyle='dashed', linewidth=2, label='median')\n",
    "    plt.axvline(modh, color='orange', linestyle='dashed', linewidth=2, label='mode')\n",
    "\n",
    "    plt.legend()  \n",
    "\n",
    "plt.tight_layout()\n",
    "plt.show()"
   ]
  },
  {
   "cell_type": "markdown",
   "id": "f0b58617-e806-4f47-92eb-3f2e03974e97",
   "metadata": {},
   "source": [
    "### Distribution Analysis of Features\n",
    "\n",
    "The histograms above visualize the distribution of each numerical feature in the dataset—TV, Radio, Newspaper, and Sales—along with their respective mean, median, and mode values.\n",
    "\n",
    "- Red dashed line: Mean\n",
    "\n",
    "- Green dashed line: Median\n",
    "\n",
    "- Orange dashed line: Mode\n",
    "\n",
    "### Observations:\n",
    "\n",
    "- TV: The distribution appears slightly right-skewed, with the mean and median closely aligned. The mode is slightly lower than both, suggesting a fairly symmetric distribution with a mild skew.\n",
    "\n",
    "- Radio: The distribution is roughly uniform or slightly left-skewed. The mean, median, and mode are relatively close, indicating minimal skewness.\n",
    "\n",
    "- Newspaper: This distribution is slightly right-skewed. The mean is noticeably higher than the median and mode, indicating the presence of higher outliers.\n",
    "\n",
    "- Sales: The distribution shows a mild right skew. Mean is greater than the median, and the mode is slightly less than both, again pointing to some higher-value outliers.\n",
    "\n",
    "These distribution characteristics are important for selecting appropriate modeling techniques and for deciding whether normalization or transformation is necessary.\n",
    "\n"
   ]
  },
  {
   "cell_type": "code",
   "execution_count": 280,
   "id": "b3ee53aa-89b3-4741-a74f-f576ce617e2e",
   "metadata": {},
   "outputs": [
    {
     "data": {
      "text/html": [
       "<div>\n",
       "<style scoped>\n",
       "    .dataframe tbody tr th:only-of-type {\n",
       "        vertical-align: middle;\n",
       "    }\n",
       "\n",
       "    .dataframe tbody tr th {\n",
       "        vertical-align: top;\n",
       "    }\n",
       "\n",
       "    .dataframe thead th {\n",
       "        text-align: right;\n",
       "    }\n",
       "</style>\n",
       "<table border=\"1\" class=\"dataframe\">\n",
       "  <thead>\n",
       "    <tr style=\"text-align: right;\">\n",
       "      <th></th>\n",
       "      <th>TV</th>\n",
       "      <th>Radio</th>\n",
       "      <th>Newspaper</th>\n",
       "      <th>Sales</th>\n",
       "    </tr>\n",
       "  </thead>\n",
       "  <tbody>\n",
       "    <tr>\n",
       "      <th>count</th>\n",
       "      <td>200.000000</td>\n",
       "      <td>200.000000</td>\n",
       "      <td>200.000000</td>\n",
       "      <td>200.000000</td>\n",
       "    </tr>\n",
       "    <tr>\n",
       "      <th>mean</th>\n",
       "      <td>147.042500</td>\n",
       "      <td>23.264000</td>\n",
       "      <td>30.554000</td>\n",
       "      <td>14.022500</td>\n",
       "    </tr>\n",
       "    <tr>\n",
       "      <th>std</th>\n",
       "      <td>85.854236</td>\n",
       "      <td>14.846809</td>\n",
       "      <td>21.778621</td>\n",
       "      <td>5.217457</td>\n",
       "    </tr>\n",
       "    <tr>\n",
       "      <th>min</th>\n",
       "      <td>0.700000</td>\n",
       "      <td>0.000000</td>\n",
       "      <td>0.300000</td>\n",
       "      <td>1.600000</td>\n",
       "    </tr>\n",
       "    <tr>\n",
       "      <th>25%</th>\n",
       "      <td>74.375000</td>\n",
       "      <td>9.975000</td>\n",
       "      <td>12.750000</td>\n",
       "      <td>10.375000</td>\n",
       "    </tr>\n",
       "    <tr>\n",
       "      <th>50%</th>\n",
       "      <td>149.750000</td>\n",
       "      <td>22.900000</td>\n",
       "      <td>25.750000</td>\n",
       "      <td>12.900000</td>\n",
       "    </tr>\n",
       "    <tr>\n",
       "      <th>75%</th>\n",
       "      <td>218.825000</td>\n",
       "      <td>36.525000</td>\n",
       "      <td>45.100000</td>\n",
       "      <td>17.400000</td>\n",
       "    </tr>\n",
       "    <tr>\n",
       "      <th>max</th>\n",
       "      <td>296.400000</td>\n",
       "      <td>49.600000</td>\n",
       "      <td>114.000000</td>\n",
       "      <td>27.000000</td>\n",
       "    </tr>\n",
       "  </tbody>\n",
       "</table>\n",
       "</div>"
      ],
      "text/plain": [
       "               TV       Radio   Newspaper       Sales\n",
       "count  200.000000  200.000000  200.000000  200.000000\n",
       "mean   147.042500   23.264000   30.554000   14.022500\n",
       "std     85.854236   14.846809   21.778621    5.217457\n",
       "min      0.700000    0.000000    0.300000    1.600000\n",
       "25%     74.375000    9.975000   12.750000   10.375000\n",
       "50%    149.750000   22.900000   25.750000   12.900000\n",
       "75%    218.825000   36.525000   45.100000   17.400000\n",
       "max    296.400000   49.600000  114.000000   27.000000"
      ]
     },
     "execution_count": 280,
     "metadata": {},
     "output_type": "execute_result"
    }
   ],
   "source": [
    "df.describe()"
   ]
  },
  {
   "cell_type": "markdown",
   "id": "95b03724-39a4-4f35-bd15-ffdec07b085d",
   "metadata": {},
   "source": [
    "### IQR Denoise"
   ]
  },
  {
   "cell_type": "code",
   "execution_count": 281,
   "id": "92dc3d57-0eea-4482-bab9-5347e3794ccd",
   "metadata": {},
   "outputs": [
    {
     "data": {
      "text/plain": [
       "np.float64(32.35)"
      ]
     },
     "execution_count": 281,
     "metadata": {},
     "output_type": "execute_result"
    }
   ],
   "source": [
    "IQR_Newspaper_Q1 = df['Newspaper'].quantile(0.25)\n",
    "IQR_Newspaper_Q3 = df['Newspaper'].quantile(0.75)\n",
    "IQR_Newspaper = IQR_Newspaper_Q3 - IQR_Newspaper_Q1\n",
    "IQR_Newspaper"
   ]
  },
  {
   "cell_type": "code",
   "execution_count": 282,
   "id": "852fedb5-17fc-4964-8ec5-dcb8b9bc5867",
   "metadata": {},
   "outputs": [
    {
     "name": "stdout",
     "output_type": "stream",
     "text": [
      "-35.775000000000006 93.625\n"
     ]
    }
   ],
   "source": [
    "LowerB = IQR_Newspaper_Q1 - 1.5 * IQR_Newspaper\n",
    "UpperB = IQR_Newspaper_Q3 + 1.5 * IQR_Newspaper\n",
    "print(LowerB,UpperB)"
   ]
  },
  {
   "cell_type": "code",
   "execution_count": 283,
   "id": "b070445e-7a71-49c9-838c-e505094c26b1",
   "metadata": {},
   "outputs": [
    {
     "data": {
      "text/html": [
       "<div>\n",
       "<style scoped>\n",
       "    .dataframe tbody tr th:only-of-type {\n",
       "        vertical-align: middle;\n",
       "    }\n",
       "\n",
       "    .dataframe tbody tr th {\n",
       "        vertical-align: top;\n",
       "    }\n",
       "\n",
       "    .dataframe thead th {\n",
       "        text-align: right;\n",
       "    }\n",
       "</style>\n",
       "<table border=\"1\" class=\"dataframe\">\n",
       "  <thead>\n",
       "    <tr style=\"text-align: right;\">\n",
       "      <th></th>\n",
       "      <th>TV</th>\n",
       "      <th>Radio</th>\n",
       "      <th>Newspaper</th>\n",
       "      <th>Sales</th>\n",
       "    </tr>\n",
       "  </thead>\n",
       "  <tbody>\n",
       "    <tr>\n",
       "      <th>0</th>\n",
       "      <td>230.1</td>\n",
       "      <td>37.8</td>\n",
       "      <td>69.2</td>\n",
       "      <td>22.1</td>\n",
       "    </tr>\n",
       "    <tr>\n",
       "      <th>1</th>\n",
       "      <td>44.5</td>\n",
       "      <td>39.3</td>\n",
       "      <td>45.1</td>\n",
       "      <td>10.4</td>\n",
       "    </tr>\n",
       "    <tr>\n",
       "      <th>2</th>\n",
       "      <td>17.2</td>\n",
       "      <td>45.9</td>\n",
       "      <td>69.3</td>\n",
       "      <td>9.3</td>\n",
       "    </tr>\n",
       "    <tr>\n",
       "      <th>3</th>\n",
       "      <td>151.5</td>\n",
       "      <td>41.3</td>\n",
       "      <td>58.5</td>\n",
       "      <td>18.5</td>\n",
       "    </tr>\n",
       "    <tr>\n",
       "      <th>4</th>\n",
       "      <td>180.8</td>\n",
       "      <td>10.8</td>\n",
       "      <td>58.4</td>\n",
       "      <td>12.9</td>\n",
       "    </tr>\n",
       "    <tr>\n",
       "      <th>...</th>\n",
       "      <td>...</td>\n",
       "      <td>...</td>\n",
       "      <td>...</td>\n",
       "      <td>...</td>\n",
       "    </tr>\n",
       "    <tr>\n",
       "      <th>195</th>\n",
       "      <td>38.2</td>\n",
       "      <td>3.7</td>\n",
       "      <td>13.8</td>\n",
       "      <td>7.6</td>\n",
       "    </tr>\n",
       "    <tr>\n",
       "      <th>196</th>\n",
       "      <td>94.2</td>\n",
       "      <td>4.9</td>\n",
       "      <td>8.1</td>\n",
       "      <td>9.7</td>\n",
       "    </tr>\n",
       "    <tr>\n",
       "      <th>197</th>\n",
       "      <td>177.0</td>\n",
       "      <td>9.3</td>\n",
       "      <td>6.4</td>\n",
       "      <td>12.8</td>\n",
       "    </tr>\n",
       "    <tr>\n",
       "      <th>198</th>\n",
       "      <td>283.6</td>\n",
       "      <td>42.0</td>\n",
       "      <td>66.2</td>\n",
       "      <td>25.5</td>\n",
       "    </tr>\n",
       "    <tr>\n",
       "      <th>199</th>\n",
       "      <td>232.1</td>\n",
       "      <td>8.6</td>\n",
       "      <td>8.7</td>\n",
       "      <td>13.4</td>\n",
       "    </tr>\n",
       "  </tbody>\n",
       "</table>\n",
       "<p>198 rows × 4 columns</p>\n",
       "</div>"
      ],
      "text/plain": [
       "        TV  Radio  Newspaper  Sales\n",
       "0    230.1   37.8       69.2   22.1\n",
       "1     44.5   39.3       45.1   10.4\n",
       "2     17.2   45.9       69.3    9.3\n",
       "3    151.5   41.3       58.5   18.5\n",
       "4    180.8   10.8       58.4   12.9\n",
       "..     ...    ...        ...    ...\n",
       "195   38.2    3.7       13.8    7.6\n",
       "196   94.2    4.9        8.1    9.7\n",
       "197  177.0    9.3        6.4   12.8\n",
       "198  283.6   42.0       66.2   25.5\n",
       "199  232.1    8.6        8.7   13.4\n",
       "\n",
       "[198 rows x 4 columns]"
      ]
     },
     "execution_count": 283,
     "metadata": {},
     "output_type": "execute_result"
    }
   ],
   "source": [
    "df = df[df['Newspaper'] <= UpperB]\n",
    "df"
   ]
  },
  {
   "cell_type": "markdown",
   "id": "6014c934-a287-42cf-af06-5e5ee02c9a0d",
   "metadata": {},
   "source": [
    "### Outlier Removal Using IQR Method (Newspaper Column)\n",
    "\n",
    "To reduce the influence of extreme values in the **Newspaper** feature, we applied the **Interquartile Range (IQR) method** for outlier detection and removal.\n",
    "\n",
    "#### Steps Taken:\n",
    "\n",
    "1. Calculated the 1st quartile (Q1) and 3rd quartile (Q3) of the `Newspaper` column.\n",
    "2. Computed the IQR:  \n",
    "   ```\n",
    "   IQR = Q3 - Q1 = 93.625 - 32.35 = 61.275\n",
    "   ```\n",
    "3. Defined the lower and upper bounds:\n",
    "   ```\n",
    "   Lower Bound = Q1 - 1.5 × IQR = -35.775\n",
    "   Upper Bound = Q3 + 1.5 × IQR = 93.625\n",
    "   ```\n",
    "4. Filtered the dataset to keep only those records where the `Newspaper` value is less than or equal to the upper bound.\n",
    "\n",
    "> **Note:** Since the lower bound is negative and newspaper spend values are non-negative in this dataset, the actual filtering only removed rows above the upper bound.\n",
    "\n",
    "#### Result:\n",
    "\n",
    "The dataset was reduced from **200** rows to **198** rows after removing outliers based on the `Newspaper` column.\n"
   ]
  },
  {
   "cell_type": "markdown",
   "id": "2eb7c02b-4249-4bc3-80e8-3280dd0a40ca",
   "metadata": {},
   "source": [
    "## Variance"
   ]
  },
  {
   "cell_type": "code",
   "execution_count": 284,
   "id": "20215e2f-f26f-4ea5-a2b4-10c339d06352",
   "metadata": {},
   "outputs": [],
   "source": [
    "def variance(n,x):\n",
    "    meanx = sum(x)/n\n",
    "    return 1/n * sum([(xi-meanx) ** 2 for xi in x]) "
   ]
  },
  {
   "cell_type": "code",
   "execution_count": 285,
   "id": "823c1492-4606-46b4-8124-698904ed1d62",
   "metadata": {},
   "outputs": [
    {
     "data": {
      "text/plain": [
       "7263.672541832468"
      ]
     },
     "execution_count": 285,
     "metadata": {},
     "output_type": "execute_result"
    }
   ],
   "source": [
    "variance(len(df['TV']),df['TV'])"
   ]
  },
  {
   "cell_type": "code",
   "execution_count": 286,
   "id": "d30dcf77-5706-4579-a7cd-4a5cf00a4a6a",
   "metadata": {},
   "outputs": [
    {
     "data": {
      "text/plain": [
       "219.7667781348842"
      ]
     },
     "execution_count": 286,
     "metadata": {},
     "output_type": "execute_result"
    }
   ],
   "source": [
    "variance(len(df['Radio']),df['Radio'])"
   ]
  },
  {
   "cell_type": "code",
   "execution_count": 287,
   "id": "ce055070-811d-409a-a896-17d1b1a0e179",
   "metadata": {},
   "outputs": [
    {
     "data": {
      "text/plain": [
       "415.93993801652874"
      ]
     },
     "execution_count": 287,
     "metadata": {},
     "output_type": "execute_result"
    }
   ],
   "source": [
    "variance(len(df['Newspaper']),df['Newspaper'])"
   ]
  },
  {
   "cell_type": "code",
   "execution_count": 288,
   "id": "1a610496-44ab-476f-9741-d68aa5bfa355",
   "metadata": {},
   "outputs": [
    {
     "data": {
      "text/plain": [
       "26.863066013672082"
      ]
     },
     "execution_count": 288,
     "metadata": {},
     "output_type": "execute_result"
    }
   ],
   "source": [
    "variance(len(df['Sales']),df['Sales'])"
   ]
  },
  {
   "cell_type": "markdown",
   "id": "40c3bc62-6d78-4c37-8f49-058f235dbc1c",
   "metadata": {},
   "source": [
    "\n",
    "### Variance Analysis\n",
    "\n",
    "The variance of each feature was calculated to understand the spread and variability in the dataset. Variance measures how far each number in the set is from the mean and is useful in identifying which features have more dispersion.\n",
    "\n",
    "#### Variance Calculation Method\n",
    "\n",
    "We defined a custom function to compute variance as follows:\n",
    "\n",
    "```python\n",
    "def variance(n, x):\n",
    "    meanx = sum(x) / n\n",
    "    return 1 / n * sum([(xi - meanx) ** 2 for xi in x])\n",
    "```\n",
    "\n",
    "### Variance Results\n",
    "\n",
    "| Feature    | Variance       |\n",
    "|------------|----------------|\n",
    "| TV         | 7263.67        |\n",
    "| Radio      | 219.77         |\n",
    "| Newspaper  | 415.94         |\n",
    "| Sales      | 26.86          |\n",
    "\n",
    "### Interpretation\n",
    "\n",
    "- **TV** has the highest variance (7263.67), indicating a wide range in advertising spend.\n",
    "- **Newspaper** shows the second highest variance, which aligns with the earlier outlier detection results.\n",
    "- **Radio** has moderate variance.\n",
    "- **Sales** has the lowest variance (26.86), indicating relatively consistent sales volume across observations.\n",
    "\n",
    "This analysis helps in understanding which features are more volatile and may require scaling or normalization during model preprocessing.\n"
   ]
  },
  {
   "cell_type": "markdown",
   "id": "f52e6bb3-5b46-4987-bed3-49954c9753f0",
   "metadata": {},
   "source": [
    "## Standard Deviation"
   ]
  },
  {
   "cell_type": "code",
   "execution_count": 289,
   "id": "f6bcafdc-02f5-4883-a33c-ecdcc9e42816",
   "metadata": {},
   "outputs": [],
   "source": [
    "import math\n",
    "def std(n,x):\n",
    "    meanx = sum(x)/n\n",
    "    v = 1/(n-1) * sum([(xi-meanx) ** 2 for xi in x]) \n",
    "    return math.sqrt(v)"
   ]
  },
  {
   "cell_type": "code",
   "execution_count": 290,
   "id": "9cad8526-bb0c-4dfe-bfc0-50ca9162ad27",
   "metadata": {},
   "outputs": [
    {
     "data": {
      "text/plain": [
       "85.44322077294936"
      ]
     },
     "execution_count": 290,
     "metadata": {},
     "output_type": "execute_result"
    }
   ],
   "source": [
    "std(len(df['TV']),df['TV'])"
   ]
  },
  {
   "cell_type": "code",
   "execution_count": 291,
   "id": "dcbb7889-445c-4af5-a8d3-2879e6fc6b99",
   "metadata": {},
   "outputs": [
    {
     "data": {
      "text/plain": [
       "14.862111072676859"
      ]
     },
     "execution_count": 291,
     "metadata": {},
     "output_type": "execute_result"
    }
   ],
   "source": [
    "std(len(df['Radio']),df['Radio'])"
   ]
  },
  {
   "cell_type": "code",
   "execution_count": 292,
   "id": "568a4acb-b906-4663-8027-926ac3f78493",
   "metadata": {},
   "outputs": [
    {
     "data": {
      "text/plain": [
       "20.446303046278743"
      ]
     },
     "execution_count": 292,
     "metadata": {},
     "output_type": "execute_result"
    }
   ],
   "source": [
    "std(len(df['Newspaper']),df['Newspaper'])"
   ]
  },
  {
   "cell_type": "code",
   "execution_count": 293,
   "id": "36b697f4-b671-4fdc-a4b5-2ad0f7986739",
   "metadata": {},
   "outputs": [
    {
     "data": {
      "text/plain": [
       "5.196097261874361"
      ]
     },
     "execution_count": 293,
     "metadata": {},
     "output_type": "execute_result"
    }
   ],
   "source": [
    "std(len(df['Sales']),df['Sales'])"
   ]
  },
  {
   "cell_type": "markdown",
   "id": "3dcb2519-a951-4e06-988a-0c857083eaeb",
   "metadata": {},
   "source": [
    "\n",
    "### Standard Deviation Analysis\n",
    "\n",
    "Standard deviation is a measure of how spread out the numbers in a dataset are. It provides insight into the variability of each feature.\n",
    "\n",
    "#### Standard Deviation Calculation Method\n",
    "\n",
    "We used a custom function to calculate the standard deviation as follows:\n",
    "\n",
    "```python\n",
    "import math\n",
    "\n",
    "def std(n, x):\n",
    "    meanx = sum(x) / n\n",
    "    v = 1 / (n - 1) * sum([(xi - meanx) ** 2 for xi in x])\n",
    "    return math.sqrt(v)\n",
    "```\n",
    "\n",
    "### Standard Deviation Results\n",
    "\n",
    "| Feature    | Standard Deviation |\n",
    "|------------|--------------------|\n",
    "| TV         | 85.44              |\n",
    "| Radio      | 14.86              |\n",
    "| Newspaper  | 20.45              |\n",
    "| Sales      | 5.20               |\n",
    "\n",
    "### Interpretation\n",
    "\n",
    "- **TV** again shows the highest standard deviation, confirming high variability in advertising spend.\n",
    "- **Newspaper** and **Radio** have moderate standard deviations.\n",
    "- **Sales** has the lowest standard deviation (5.20), indicating the least variation, which may suggest a relatively stable sales trend.\n",
    "\n",
    "Understanding standard deviation helps identify the consistency of feature values and is critical when deciding on normalization or standardization in preprocessing.\n",
    "\n"
   ]
  },
  {
   "cell_type": "markdown",
   "id": "1fbecac8-1419-4f01-b79b-3685f0e215dd",
   "metadata": {},
   "source": [
    "## Pearson Correlation"
   ]
  },
  {
   "cell_type": "code",
   "execution_count": 294,
   "id": "dd57b84a-2ec4-4d81-8627-b3efe6b4aa08",
   "metadata": {},
   "outputs": [],
   "source": [
    "import math\n",
    "\n",
    "def pearson_correlation(x, y):\n",
    "    n = len(x)\n",
    "    mean_x = sum(x)/n\n",
    "    mean_y = sum(y)/n\n",
    "    numerator = sum((xi - mean_x) * (yi - mean_y) for xi, yi in zip(x, y))\n",
    "    sum_sq_x = sum((xi - mean_x)**2 for xi in x)\n",
    "    sum_sq_y = sum((yi - mean_y)**2 for yi in y)    \n",
    "    denominator = math.sqrt(sum_sq_x) * math.sqrt(sum_sq_y)\n",
    "    return numerator / denominator\n",
    "    "
   ]
  },
  {
   "cell_type": "code",
   "execution_count": 295,
   "id": "55fb7a69-6cea-4803-9874-b869e607529e",
   "metadata": {},
   "outputs": [
    {
     "name": "stdout",
     "output_type": "stream",
     "text": [
      "Builtin: 0.7791208573985776\n",
      "Manual Calculation: 0.7791208573985778\n",
      "Swap: 0.7791208573985777\n"
     ]
    },
    {
     "data": {
      "text/plain": [
       "<matplotlib.collections.PathCollection at 0x250af5db9d0>"
      ]
     },
     "execution_count": 295,
     "metadata": {},
     "output_type": "execute_result"
    },
    {
     "data": {
      "image/png": "[encoded data removed]",
      "text/plain": [
       "<Figure size 640x480 with 1 Axes>"
      ]
     },
     "metadata": {},
     "output_type": "display_data"
    }
   ],
   "source": [
    "print(f\"Builtin: {df['TV'].corr(df['Sales'])}\")\n",
    "print(f\"Manual Calculation: {pearson_correlation(df['TV'], df['Sales'])}\")\n",
    "print(f\"Swap: {df['Sales'].corr(df['TV'])}\")\n",
    "plt.scatter(df['TV'],df['Sales'])"
   ]
  },
  {
   "cell_type": "code",
   "execution_count": 296,
   "id": "d888d9b0-775a-4cf2-ab77-2256410bad94",
   "metadata": {},
   "outputs": [
    {
     "name": "stdout",
     "output_type": "stream",
     "text": [
      "0.5767476834229015\n"
     ]
    },
    {
     "data": {
      "text/plain": [
       "<matplotlib.collections.PathCollection at 0x250af768550>"
      ]
     },
     "execution_count": 296,
     "metadata": {},
     "output_type": "execute_result"
    },
    {
     "data": {
      "image/png": "[encoded data removed]",
      "text/plain": [
       "<Figure size 640x480 with 1 Axes>"
      ]
     },
     "metadata": {},
     "output_type": "display_data"
    }
   ],
   "source": [
    "print(df['Radio'].corr(df['Sales']))\n",
    "plt.scatter(df['Radio'],df['Sales'])"
   ]
  },
  {
   "cell_type": "code",
   "execution_count": 297,
   "id": "903fb4db-7846-49ed-8a64-b1b08cb53299",
   "metadata": {},
   "outputs": [
    {
     "name": "stdout",
     "output_type": "stream",
     "text": [
      "0.21955467558031128\n"
     ]
    },
    {
     "data": {
      "text/plain": [
       "<matplotlib.collections.PathCollection at 0x250afcb5e50>"
      ]
     },
     "execution_count": 297,
     "metadata": {},
     "output_type": "execute_result"
    },
    {
     "data": {
      "image/png": "[encoded data removed]",
      "text/plain": [
       "<Figure size 640x480 with 1 Axes>"
      ]
     },
     "metadata": {},
     "output_type": "display_data"
    }
   ],
   "source": [
    "print(df['Newspaper'].corr(df['Sales']))\n",
    "plt.scatter(df['Newspaper'],df['Sales'])"
   ]
  },
  {
   "cell_type": "code",
   "execution_count": 298,
   "id": "f163da81-6784-454b-901c-4d6491fb87bc",
   "metadata": {},
   "outputs": [
    {
     "data": {
      "text/plain": [
       "<matplotlib.collections.PathCollection at 0x250afcde990>"
      ]
     },
     "execution_count": 298,
     "metadata": {},
     "output_type": "execute_result"
    },
    {
     "data": {
      "image/png": "[encoded data removed]",
      "text/plain": [
       "<Figure size 640x480 with 1 Axes>"
      ]
     },
     "metadata": {},
     "output_type": "display_data"
    }
   ],
   "source": [
    "plt.scatter(0,0)\n",
    "plt.scatter(1,32)\n",
    "plt.scatter(3,96)\n",
    "plt.scatter(5,160)"
   ]
  },
  {
   "cell_type": "markdown",
   "id": "a53abca6-d695-4223-9e64-008c11638315",
   "metadata": {},
   "source": [
    "\n",
    "## Pearson Correlation Analysis\n",
    "\n",
    "The Pearson correlation coefficient measures the linear relationship between two variables. It ranges from -1 to 1:\n",
    "- **+1** indicates a perfect positive linear relationship,\n",
    "- **-1** indicates a perfect negative linear relationship,\n",
    "- **0** indicates no linear relationship.\n",
    "\n",
    "### Correlation Method\n",
    "\n",
    "We used a custom function to compute the Pearson correlation coefficient and visualize the relationships between each advertising medium and **Sales**.\n",
    "\n",
    "#### Code Snippet Used:\n",
    "\n",
    "```python\n",
    "def correlation(n, x, y):\n",
    "    meanx = sum(x)/n\n",
    "    meany = sum(y)/n\n",
    "    zx = [(xi - meanx) for xi in x]\n",
    "    zy = [(yi - meany) for yi in y]\n",
    "    return sum([zx[i]*zy[i] for i in range(n)]) / ((sum([i**2 for i in zx])**0.5) * (sum([i**2 for i in zy])**0.5))\n",
    "```\n",
    "\n",
    "### Scatter Plots & Correlation Values\n",
    "\n",
    "- **TV vs Sales**: Strong positive linear relationship\n",
    "- **Radio vs Sales**: Moderate positive linear relationship\n",
    "- **Newspaper vs Sales**: Weak or no clear linear relationship\n",
    "\n",
    "The scatter plots visually support the correlation strength among features.\n",
    "\n",
    "### Insights\n",
    "\n",
    "- **TV** advertising is the most strongly correlated with **Sales**, suggesting it has a substantial impact.\n",
    "- **Radio** shows a moderate correlation, implying a weaker but still meaningful influence.\n",
    "- **Newspaper** appears to have very little linear correlation with **Sales**, which may suggest it contributes less predictively in a linear regression model.\n",
    "\n",
    "Understanding correlation is crucial for feature selection and model design, especially for linear models.\n",
    "\n"
   ]
  },
  {
   "cell_type": "markdown",
   "id": "8ee1a26a-ad4f-41e0-830f-551789be0bec",
   "metadata": {},
   "source": [
    "## Model"
   ]
  },
  {
   "cell_type": "markdown",
   "id": "7592b994-c3e6-49a5-95d1-d6ef5749c175",
   "metadata": {},
   "source": [
    "### OLS Raw"
   ]
  },
  {
   "cell_type": "code",
   "execution_count": 299,
   "id": "e6a18f29-55ac-4a5b-bdd1-d2c02e5ed8e5",
   "metadata": {},
   "outputs": [],
   "source": [
    "import statistics as st\n",
    "\n",
    "def OLS(x, y):\n",
    "    xm = st.mean(x)\n",
    "    ym = st.mean(y)\n",
    "    \n",
    "    up = sum((xi - xm) * (yi - ym) for xi, yi in zip(x, y))\n",
    "    down = sum((xi - xm) ** 2 for xi in x)\n",
    "    \n",
    "    beta1 = up / down\n",
    "    beta0 = ym - beta1 * xm\n",
    "    \n",
    "    return beta1, beta0\n",
    "\n",
    "def OLS_Enhanced(df):\n",
    "    \n",
    "    xm = df['TV'].mean()\n",
    "    ym = df['Sales'].mean()\n",
    "    \n",
    "    beta1 = sum((df['TV'] - xm) * (df['Sales'] - ym)) / sum((df['TV'] - xm) ** 2)\n",
    "    beta0 = ym - beta1 * xm\n",
    "    \n",
    "    return beta1, beta0\n",
    "    "
   ]
  },
  {
   "cell_type": "code",
   "execution_count": 300,
   "id": "2ceeff6e-eb14-4cf2-9280-55a94a0bcc72",
   "metadata": {},
   "outputs": [
    {
     "data": {
      "text/plain": [
       "(0.04738102938038637, np.float64(7.03056145640022))"
      ]
     },
     "execution_count": 300,
     "metadata": {},
     "output_type": "execute_result"
    }
   ],
   "source": [
    "weight, bias = OLS_Enhanced(df)\n",
    "weight,bias"
   ]
  },
  {
   "cell_type": "code",
   "execution_count": 301,
   "id": "32ea6577-fb1d-41de-b769-40b5f326f78a",
   "metadata": {},
   "outputs": [
    {
     "data": {
      "image/png": "[encoded data removed]",
      "text/plain": [
       "<Figure size 640x480 with 1 Axes>"
      ]
     },
     "metadata": {},
     "output_type": "display_data"
    }
   ],
   "source": [
    "x = np.linspace(0, 300, 300)\n",
    "y = weight * x + bias\n",
    "plt.plot(x, y, color='red', label='Optimized Model')\n",
    "plt.scatter(df['TV'], df['Sales'], color='blue', label='Data points')\n",
    "plt.xlabel('TV Advertising Budget')\n",
    "plt.ylabel('Sales')\n",
    "plt.title('Linear Regression: TV vs Sales')\n",
    "plt.legend()\n",
    "plt.grid(True)\n",
    "plt.show()"
   ]
  },
  {
   "cell_type": "markdown",
   "id": "73becde2-1b45-464f-9ee1-f2f960974b13",
   "metadata": {},
   "source": [
    "### NumPy Polyfit"
   ]
  },
  {
   "cell_type": "code",
   "execution_count": 302,
   "id": "17235b54-b212-4cfd-aed1-cece5f60c347",
   "metadata": {},
   "outputs": [
    {
     "data": {
      "text/plain": [
       "np.float64(0.04738102938038643)"
      ]
     },
     "execution_count": 302,
     "metadata": {},
     "output_type": "execute_result"
    }
   ],
   "source": [
    "b1,b0 = np.polyfit(df['TV'], df['Sales'], deg=1)\n",
    "b1"
   ]
  },
  {
   "cell_type": "code",
   "execution_count": 303,
   "id": "e4454a0b-0997-422e-be76-eef09cb12039",
   "metadata": {},
   "outputs": [
    {
     "data": {
      "text/plain": [
       "np.float64(7.030561456400218)"
      ]
     },
     "execution_count": 303,
     "metadata": {},
     "output_type": "execute_result"
    }
   ],
   "source": [
    "b0"
   ]
  },
  {
   "cell_type": "markdown",
   "id": "fd9a2212-1c3c-477e-b7b4-2119a8634dbf",
   "metadata": {},
   "source": [
    "### SciKit Learn Regression Model"
   ]
  },
  {
   "cell_type": "code",
   "execution_count": 304,
   "id": "ac7e8a7a-c753-40d8-bc03-70f464bd0209",
   "metadata": {},
   "outputs": [],
   "source": [
    "model = LinearRegression()\n",
    "model.fit(df[['TV']], df['Sales'].values)\n",
    "\n",
    "b0_sklearn = model.intercept_\n",
    "b1_sklearn = model.coef_[0]"
   ]
  },
  {
   "cell_type": "code",
   "execution_count": 305,
   "id": "c1a2c896-4733-454e-8a68-9dd9cdfe48f5",
   "metadata": {},
   "outputs": [
    {
     "data": {
      "text/plain": [
       "np.float64(7.030561456400218)"
      ]
     },
     "execution_count": 305,
     "metadata": {},
     "output_type": "execute_result"
    }
   ],
   "source": [
    "b0_sklearn"
   ]
  },
  {
   "cell_type": "code",
   "execution_count": 306,
   "id": "43497c04-cc3d-4154-b3d1-915a2e0a33ec",
   "metadata": {},
   "outputs": [
    {
     "data": {
      "text/plain": [
       "np.float64(0.047381029380386394)"
      ]
     },
     "execution_count": 306,
     "metadata": {},
     "output_type": "execute_result"
    }
   ],
   "source": [
    "b1_sklearn"
   ]
  },
  {
   "cell_type": "markdown",
   "id": "e0513103-d4d6-4faa-9101-6203d5bb6491",
   "metadata": {},
   "source": [
    "\n",
    "## Linear Regression Modeling\n",
    "\n",
    "We applied multiple methods to perform linear regression on the relationship between **TV advertising spend** and **Sales**.\n",
    "\n",
    "---\n",
    "\n",
    "### 1. Ordinary Least Squares (OLS) - Manual Implementation\n",
    "\n",
    "We implemented two versions of OLS:\n",
    "- `OLS`: Based on `statistics.mean`\n",
    "- `OLS_Enhanced`: Using `pandas` directly for means\n",
    "\n",
    "#### Results (OLS_Enhanced):\n",
    "- **Slope (Weight)**: 0.0473\n",
    "- **Intercept (Bias)**: 7.0306\n",
    "\n",
    "A regression line was plotted using these parameters, clearly fitting the data points well.\n",
    "\n",
    "---\n",
    "\n",
    "### 2. NumPy Polyfit\n",
    "\n",
    "We used NumPy's `polyfit` function with `deg=1` to perform linear regression.\n",
    "\n",
    "```python\n",
    "b1, b0 = np.polyfit(df['TV'], df['Sales'], deg=1)\n",
    "```\n",
    "\n",
    "#### Results:\n",
    "- **Slope**: 0.0473\n",
    "- **Intercept**: 7.0306\n",
    "\n",
    "This result matches exactly with our manual implementation, validating our approach.\n",
    "\n",
    "---\n",
    "\n",
    "### 3. Scikit-learn LinearRegression\n",
    "\n",
    "We also trained a model using `scikit-learn`'s `LinearRegression` class:\n",
    "\n",
    "```python\n",
    "model = LinearRegression()\n",
    "model.fit(df[['TV']], df['Sales'].values)\n",
    "```\n",
    "\n",
    "#### Results:\n",
    "- **Slope**: 0.0473\n",
    "- **Intercept**: 7.0306\n",
    "\n",
    "This confirms consistency across all implementations.\n",
    "\n",
    "---\n",
    "\n",
    "### Conclusion\n",
    "\n",
    "All three modeling methods—manual OLS, NumPy polyfit, and Scikit-learn—produced the same regression line:\n",
    "\n",
    "$\\text{Sales} = 0.0473 \\times \\text{TV} + 7.0306$\n",
    "\n",
    "\n",
    "\n",
    "This strong alignment confirms the robustness of the linear relationship between TV advertising and sales. This model can now be used for prediction and further performance evaluation.\n"
   ]
  },
  {
   "cell_type": "markdown",
   "id": "3ddcdb3a-4300-4705-9331-7947cb3c232b",
   "metadata": {},
   "source": [
    "## Predict"
   ]
  },
  {
   "cell_type": "code",
   "execution_count": 335,
   "id": "73662835-c710-45b3-b492-fe89b2a527cd",
   "metadata": {},
   "outputs": [],
   "source": [
    "y_pred = model.predict(df[['TV']])"
   ]
  },
  {
   "cell_type": "code",
   "execution_count": 336,
   "id": "115dd6c9-6e43-48e3-b43d-b1a0e44f2ffe",
   "metadata": {},
   "outputs": [
    {
     "data": {
      "text/plain": [
       "np.float64(15.08533645106591)"
      ]
     },
     "execution_count": 336,
     "metadata": {},
     "output_type": "execute_result"
    }
   ],
   "source": [
    "predict(170)"
   ]
  },
  {
   "cell_type": "markdown",
   "id": "a7d4d0bc-febb-478d-9e5b-09d884b7f0e2",
   "metadata": {},
   "source": [
    "\n",
    "## Prediction Using Trained Model\n",
    "\n",
    "After training the linear regression model on **TV advertising spend** and **Sales**, we used it to predict sales based on a given TV spend.\n",
    "\n",
    "### Prediction Code\n",
    "\n",
    "```python\n",
    "y_pred = model.predict(df[['TV']])\n",
    "predict(170)\n",
    "```\n",
    "\n",
    "### Result\n",
    "\n",
    "For a TV advertising spend of **170**, the predicted **Sales** is approximately:\n",
    "\n",
    "**15.09 (in thousands of units)**\n",
    "\n",
    "This shows the model's practical applicability for forecasting sales based on TV budget allocation.\n"
   ]
  },
  {
   "cell_type": "markdown",
   "id": "ff89d840-7c13-417f-9e24-9ccb20639947",
   "metadata": {},
   "source": [
    "## Loss Functions "
   ]
  },
  {
   "cell_type": "code",
   "execution_count": 377,
   "id": "2f6f1c1a-e3e5-4805-905d-571890a1713b",
   "metadata": {},
   "outputs": [],
   "source": [
    "y_real = df['Sales']\n",
    "y_real = np.array(y_real)\n",
    "#y_real"
   ]
  },
  {
   "cell_type": "code",
   "execution_count": 378,
   "id": "55c2ad90-d4b1-4aab-aac7-b759f5920415",
   "metadata": {},
   "outputs": [],
   "source": [
    "def residuals(y_true, y_pred):\n",
    "    return np.subtract(y_true, y_pred)"
   ]
  },
  {
   "cell_type": "code",
   "execution_count": 379,
   "id": "76067115-790a-4567-92a4-f0ca814691e2",
   "metadata": {},
   "outputs": [],
   "source": [
    "def RSE(y_true, y_pred):\n",
    "    res = residuals(y_true, y_pred)\n",
    "    n = len(y_true)\n",
    "    return np.sqrt(np.sum(res ** 2) / (n - 2)) "
   ]
  },
  {
   "cell_type": "code",
   "execution_count": 380,
   "id": "9975b1a5-16e2-4eb8-aede-109ab374b180",
   "metadata": {
    "scrolled": true
   },
   "outputs": [
    {
     "data": {
      "text/plain": [
       "np.float64(3.265797030988863)"
      ]
     },
     "execution_count": 380,
     "metadata": {},
     "output_type": "execute_result"
    }
   ],
   "source": [
    "RSE(y_real, y_pred)"
   ]
  },
  {
   "cell_type": "code",
   "execution_count": 381,
   "id": "0dc26a17-1aa7-4ca1-a567-089de1a28278",
   "metadata": {},
   "outputs": [],
   "source": [
    "def MSE(y_true, y_pred):\n",
    "    res = residuals(y_true, y_pred)\n",
    "    return np.mean(res ** 2)"
   ]
  },
  {
   "cell_type": "code",
   "execution_count": 385,
   "id": "e46f61dc-81c4-4435-b8dd-513971964d67",
   "metadata": {
    "scrolled": true
   },
   "outputs": [
    {
     "data": {
      "text/plain": [
       "array([ 4.21151321,  1.28363519,  1.47393115,  4.32643125, -2.65839189,\n",
       "       -0.22432835,  2.06920854,  0.50578156, -2.61960199, -5.85640007,\n",
       "       -1.53725832,  0.23937247,  1.06199147, -1.92133499,  2.3403665 ,\n",
       "        6.15155972,  4.08689113,  1.01622456,  0.62493832,  0.66449719,\n",
       "       -5.73351098, -2.0370145 , -2.30341233, -0.25765668, -7.43873248,\n",
       "        1.23289811, -2.46112267,  0.12768411,  0.15005554,  0.54335987,\n",
       "       -0.44919425, -2.00715591, -2.16634417, -2.03626053, -7.95266024,\n",
       "        5.77221316,  4.15627482,  1.04980421,  3.71076675,  0.01598825,\n",
       "        1.72120975, -0.18972464, -3.89197154,  0.3005488 , -0.38898944,\n",
       "       -0.652679  ,  4.84833005, -2.95142238, -0.47506919, -5.05640007,\n",
       "       -1.05839939,  5.35902437,  5.55653365,  0.77072023,  7.28613716,\n",
       "       -1.85815933, -0.25043585,  6.82370046,  1.42842682, -1.44173711,\n",
       "        4.83688926, -2.6233118 ,  2.13289435,  4.79060845, -0.97432272,\n",
       "        0.99806184, -0.19695298,  0.66648902,  5.04011893,  1.87668445,\n",
       "        0.19732288,  0.5202007 , -2.12904345, -0.09918487,  0.88811022,\n",
       "       -1.41288381,  1.49160248, -1.96835851, -1.49571137,  1.17592672,\n",
       "       -6.0469436 ,  0.72791667,  3.35403543,  4.59608877, -0.94446038,\n",
       "        1.38065308,  3.75478565,  1.71349002,  4.49732288, -2.16063504,\n",
       "       -1.06487376,  2.0975817 ,  3.32843057, -0.58924451,  2.16872091,\n",
       "       -4.65242017, -0.2521726 ,  4.69460335,  3.79682773, -5.82455716,\n",
       "       -5.45639256, -1.19396337,  2.42867815,  5.66921605, -0.99472484,\n",
       "       -2.58576351, -2.33228814,  0.71574443, -4.28525336,  3.36325559,\n",
       "       -1.21734759, -1.01958323,  3.89085227,  2.03736939, -1.39222662,\n",
       "       -1.22407328,  2.94583182, -1.33004875,  1.80851985, -0.90169059,\n",
       "       -6.0001789 ,  2.36871715,  1.83987136, -0.53452003, -0.78179112,\n",
       "       -2.00367491,  7.27469637, -0.13004499, -5.44621965, -6.84743874,\n",
       "       -1.71014928,  2.19832817,  2.04283846,  2.30403355,  1.27691701,\n",
       "        0.85082076,  0.55453057,  4.9478274 ,  0.41771749,  3.03190782,\n",
       "        2.66524366, -1.55690646, -0.15989232, -3.34421657, -5.16112267,\n",
       "        6.8923602 ,  2.09084851,  0.97418247, -4.18002436, -1.13202931,\n",
       "        0.24757983,  3.8906122 , -0.28923701, -4.00691585,  3.84881393,\n",
       "       -3.99322065, -0.26611912, -0.33774971, -0.76610411,  2.23637535,\n",
       "       -1.01759516,  3.25926819, -0.65242768, -6.19644658,  0.14084664,\n",
       "       -4.58724518, -0.09371204, -5.45017327, -0.97631455, -0.2879954 ,\n",
       "       -0.33950146, -3.2723234 , -6.02455716,  6.89957728,  1.44658955,\n",
       "       -3.35739785, -8.29097   , -2.23998535, -3.91461305, -5.14022917,\n",
       "       -0.96934879,  5.59385689, -1.40863383,  5.89782928, -3.30640569,\n",
       "        1.25479315, -4.63052137, -1.19696423,  1.91995313, -0.68153605,\n",
       "       -1.92606885,  4.70329835,  3.21150571, -1.21860421, -1.76536515,\n",
       "       -2.57879025,  5.08291124, -4.58301397])"
      ]
     },
     "execution_count": 385,
     "metadata": {},
     "output_type": "execute_result"
    }
   ],
   "source": [
    "residuals(y_real, y_pred)"
   ]
  },
  {
   "cell_type": "code",
   "execution_count": 386,
   "id": "26e5608c-4d74-418a-a14f-8b17be24b813",
   "metadata": {},
   "outputs": [],
   "source": [
    "RSE(y_real, y_pred)\n",
    "\n",
    "MSE(y_real, y_pred)\n",
    "mse = mean_squared_error(y_real, y_pred)\n",
    "rse = np.sqrt(mse * (ldf/(ldf-2)))"
   ]
  },
  {
   "cell_type": "markdown",
   "id": "36bb425a-aa6e-49a5-b61d-f8d61272f2f4",
   "metadata": {},
   "source": [
    "## Standard Error"
   ]
  },
  {
   "cell_type": "code",
   "execution_count": 387,
   "id": "d167aa62-6f9a-49b2-af03-39f7def5bf5e",
   "metadata": {},
   "outputs": [
    {
     "name": "stdout",
     "output_type": "stream",
     "text": [
      "SE_beta_0: 0.46196152910484983\n",
      "SE_beta_1: 0.0027230254779367466\n"
     ]
    }
   ],
   "source": [
    "n = len(df['TV'])\n",
    "\n",
    "x_mean = np.mean(df['TV'])\n",
    "y_mean = np.mean(df['Sales'])\n",
    "\n",
    "ty_pred = b0 + b1 * df['TV']\n",
    "residuals = df['Sales'] - ty_pred\n",
    "\n",
    "s_squared = np.sum(residuals ** 2) / (n - 2)\n",
    "s = np.sqrt(s_squared)\n",
    "\n",
    "se_beta_1 = s / np.sqrt(np.sum((df['TV'] - x_mean) ** 2))\n",
    "se_beta_0 = s * np.sqrt(1/n + x_mean**2 / np.sum((df['TV'] - x_mean) ** 2))\n",
    "\n",
    "print(\"SE_beta_0:\", se_beta_0)\n",
    "print(\"SE_beta_1:\", se_beta_1)\n"
   ]
  },
  {
   "cell_type": "code",
   "execution_count": 388,
   "id": "06adf8d4-99d6-44a8-87ae-596125b534db",
   "metadata": {},
   "outputs": [
    {
     "name": "stdout",
     "output_type": "stream",
     "text": [
      "[np.float64(0.041934978424512936), np.float64(0.05282708033625992)]\n"
     ]
    }
   ],
   "source": [
    "cib1_up = b1 + 2 * se_beta_1\n",
    "cib1_down = b1 - 2 * se_beta_1\n",
    "print([cib1_down, cib1_up])"
   ]
  },
  {
   "cell_type": "code",
   "execution_count": 389,
   "id": "a8aff9db-3371-4e47-9ed1-258c2e5c64b9",
   "metadata": {},
   "outputs": [
    {
     "name": "stdout",
     "output_type": "stream",
     "text": [
      "[np.float64(6.106638398190518), np.float64(7.954484514609917)]\n"
     ]
    }
   ],
   "source": [
    "cib0_up = b0 + 2 * se_beta_0\n",
    "cib0_down = b0 - 2 * se_beta_0\n",
    "print([cib0_down, cib0_up])"
   ]
  },
  {
   "cell_type": "markdown",
   "id": "58638e4a-414c-42d0-92f6-affd3da6c194",
   "metadata": {},
   "source": [
    "## Hypothesis Test"
   ]
  },
  {
   "cell_type": "code",
   "execution_count": 348,
   "id": "dc758dae-4b88-432b-95a3-9aae2e650505",
   "metadata": {},
   "outputs": [
    {
     "data": {
      "text/plain": [
       "np.float64(17.40014177769917)"
      ]
     },
     "execution_count": 348,
     "metadata": {},
     "output_type": "execute_result"
    }
   ],
   "source": [
    "tb1 = abs(b1 / se_beta_1)\n",
    "tb1"
   ]
  },
  {
   "cell_type": "code",
   "execution_count": 349,
   "id": "2300e24f-48a2-4c6a-9fac-6b3deea6683f",
   "metadata": {},
   "outputs": [
    {
     "data": {
      "text/plain": [
       "np.float64(15.218932775686858)"
      ]
     },
     "execution_count": 349,
     "metadata": {},
     "output_type": "execute_result"
    }
   ],
   "source": [
    "tb0 = abs(b0 / se_beta_0)\n",
    "tb0"
   ]
  },
  {
   "cell_type": "markdown",
   "id": "dae8f933-fc55-43db-8673-695ed0e726c0",
   "metadata": {},
   "source": [
    "## $R^2$"
   ]
  },
  {
   "cell_type": "code",
   "execution_count": 359,
   "id": "b6f73e9e-82f4-448a-95e2-7b37dfcb0fe8",
   "metadata": {},
   "outputs": [
    {
     "name": "stdout",
     "output_type": "stream",
     "text": [
      "2090.166719902124\n",
      "5318.887070707071\n",
      "R-squared (R2): 0.6070\n"
     ]
    }
   ],
   "source": [
    "RSS = np.sum((df[\"Sales\"] - y_pred) ** 2)\n",
    "\n",
    "print(RSS)\n",
    "# Compute TSS (Total Sum of Squares)\n",
    "TSS = np.sum((df[\"Sales\"] - np.mean(df[\"Sales\"])) ** 2)\n",
    "print(TSS)\n",
    "# Compute R-squared (R2)\n",
    "R2 = 1 - (RSS / TSS)\n",
    "\n",
    "# Print result\n",
    "print(f\"R-squared (R2): {R2:.4f}\")"
   ]
  },
  {
   "cell_type": "markdown",
   "id": "9d9da883-0769-4da5-aa24-6e2f7443bc37",
   "metadata": {},
   "source": [
    "\n",
    "## Model Diagnostics and Evaluation\n",
    "\n",
    "After fitting the linear regression model, we conducted several statistical tests and diagnostics to evaluate its reliability and effectiveness.\n",
    "\n",
    "---\n",
    "\n",
    "### 1. **Residual Standard Error (RSE)**\n",
    "RSE gives a measure of the standard deviation of residuals:\n",
    "- **RSE** ≈ 3.27  \n",
    "This indicates that, on average, predictions deviate by about 3.27 units from actual sales.\n",
    "\n",
    "---\n",
    "\n",
    "### 2. **Mean Squared Error (MSE)**\n",
    "- MSE quantifies the average squared difference between predicted and actual values.\n",
    "- Helps penalize larger errors more severely.\n",
    "\n",
    "---\n",
    "\n",
    "### 3. **Standard Errors of Coefficients**\n",
    "- **SE_β₀ (Intercept)** ≈ 0.462\n",
    "- **SE_β₁ (TV Coefficient)** ≈ 0.0027  \n",
    "Used to calculate confidence intervals and test coefficient significance.\n",
    "\n",
    "#### 95% Confidence Intervals:\n",
    "- **β₁ (Slope)**: [0.0419, 0.0528]\n",
    "- **β₀ (Intercept)**: [6.1066, 7.9545]\n",
    "\n",
    "---\n",
    "\n",
    "### 4. **Hypothesis Testing**\n",
    "We conducted t-tests to evaluate the statistical significance of the model coefficients.\n",
    "\n",
    "- **t-statistic for β₁** ≈ 17.40  \n",
    "- **t-statistic for β₀** ≈ 15.22  \n",
    "\n",
    "Both values are significantly high, indicating strong evidence against the null hypothesis (i.e., the coefficients are statistically significant).\n",
    "\n",
    "---\n",
    "\n",
    "### 5. **R² (Coefficient of Determination)**\n",
    "\n",
    "$$R^2 = 1 - \\frac{RSS}{TSS}$$\n",
    "\n",
    "\n",
    "- **RSS (Residual Sum of Squares)** ≈ 2090.17  \n",
    "- **TSS (Total Sum of Squares)** ≈ 5318.89  \n",
    "- **R² Score** ≈ 0.6070\n",
    "\n",
    "This means that approximately **60.7%** of the variance in **Sales** can be explained by **TV advertising** spend.\n",
    "\n",
    "---\n",
    "\n",
    "### Conclusion\n",
    "\n",
    "The model demonstrates a strong, statistically significant linear relationship between TV advertising and sales. The R² value, high t-statistics, and narrow confidence intervals all support the model's validity for predictive use.\n",
    "\n"
   ]
  },
  {
   "cell_type": "markdown",
   "id": "705c8ad9-0593-4ef2-b6ca-9765386007c7",
   "metadata": {},
   "source": [
    "## Gradient Decent"
   ]
  },
  {
   "cell_type": "code",
   "execution_count": 373,
   "id": "431c0372-49ca-418e-bade-1263a86f2a34",
   "metadata": {},
   "outputs": [],
   "source": [
    "X_raw = df[\"TV\"].values\n",
    "y = df[\"Sales\"].values\n",
    "\n",
    "X = (X_raw - np.mean(X_raw)) / np.std(X_raw)"
   ]
  },
  {
   "cell_type": "code",
   "execution_count": 374,
   "id": "8a06a80e-cb01-4314-a926-3c38176e433d",
   "metadata": {},
   "outputs": [],
   "source": [
    "B0, B1 = 0, 0\n",
    "lr = 0.00001\n",
    "epochs = 300000\n",
    "n = len(X)\n",
    "\n",
    "cost_history = []\n",
    "\n",
    "for _ in range(epochs):\n",
    "    y_pred = B0 + B1 * X\n",
    "    error = y - y_pred \n",
    "\n",
    "    dB0 = -2 * np.sum(error) / n\n",
    "    dB1 = -2 * np.sum(error * X) / n\n",
    "\n",
    "    B0 -= lr * dB0\n",
    "    B1 -= lr * dB1\n",
    "\n",
    "    cost = np.mean(error ** 2)\n",
    "    cost_history.append(cost)"
   ]
  },
  {
   "cell_type": "code",
   "execution_count": 375,
   "id": "236c73f9-3781-4627-83d7-376e72bb1c1d",
   "metadata": {},
   "outputs": [
    {
     "name": "stdout",
     "output_type": "stream",
     "text": [
      "Optimized B0 (Intercept) using Gradient Descent (Original Scale): 7.0131\n",
      "Optimized B1 (Slope) using Gradient Descent (Original Scale): 0.0473\n"
     ]
    }
   ],
   "source": [
    "B1_original = B1 / np.std(X_raw)\n",
    "B0_original = B0 - (B1_original * np.mean(X_raw))\n",
    "\n",
    "print(f\"Optimized B0 (Intercept) using Gradient Descent (Original Scale): {B0_original:.4f}\")\n",
    "print(f\"Optimized B1 (Slope) using Gradient Descent (Original Scale): {B1_original:.4f}\")"
   ]
  },
  {
   "cell_type": "markdown",
   "id": "4729b592-d811-47e9-b067-259cd98df676",
   "metadata": {},
   "source": [
    "\n",
    "## Gradient Descent Optimization\n",
    "\n",
    "We implemented **Gradient Descent** from scratch to estimate the linear regression coefficients for predicting **Sales** based on **TV** advertising spend.\n",
    "\n",
    "---\n",
    "\n",
    "### Process Summary\n",
    "\n",
    "#### Step 1: Feature Normalization\n",
    "\n",
    "```python\n",
    "X = (X_raw - np.mean(X_raw)) / np.std(X_raw)\n",
    "```\n",
    "\n",
    "Standardizing the input feature (**TV**) helps gradient descent converge more efficiently.\n",
    "\n",
    "---\n",
    "\n",
    "#### Step 2: Gradient Descent Loop\n",
    "\n",
    "- **Learning Rate (lr)**: 0.00001  \n",
    "- **Epochs**: 300,000  \n",
    "- **Initial Weights**: B0 = 0, B1 = 0\n",
    "\n",
    "The cost function minimized was:\n",
    "\n",
    "$\\text{Cost} = \\frac{1}{n} \\sum (y_{\\text{true}} - y_{\\text{pred}})^2$\n",
    "\n",
    "Gradient descent updates were performed using the partial derivatives of the cost function with respect to B0 and B1.\n",
    "\n",
    "---\n",
    "\n",
    "#### Step 3: Rescaling Back to Original Scale\n",
    "\n",
    "After training on the normalized feature, the coefficients were converted back:\n",
    "\n",
    "$B1_{\\text{original}} = \\frac{B1}{\\text{std}(X)}, \\quad B0_{\\text{original}} = B0 - B1_{\\text{original}} \\times \\text{mean}(X)$\n",
    "\n",
    "---\n",
    "\n",
    "### Final Optimized Coefficients (Original Scale)\n",
    "\n",
    "- **Intercept (B0)** ≈ 7.0131  \n",
    "- **Slope (B1)** ≈ 0.0473\n",
    "\n",
    "These values match closely with those obtained via OLS, `polyfit`, and `scikit-learn`, validating the correctness of our gradient descent implementation.\n",
    "\n",
    "---\n",
    "\n",
    "### Conclusion\n",
    "\n",
    "Gradient descent is a powerful optimization technique that, when properly tuned, can yield results consistent with analytical solutions. This method is especially beneficial for large-scale or complex models where closed-form solutions may not be feasible.\n"
   ]
  }
 ],
 "metadata": {
  "kernelspec": {
   "display_name": "Python 3 (ipykernel)",
   "language": "python",
   "name": "python3"
  },
  "language_info": {
   "codemirror_mode": {
    "name": "ipython",
    "version": 3
   },
   "file_extension": ".py",
   "mimetype": "text/x-python",
   "name": "python",
   "nbconvert_exporter": "python",
   "pygments_lexer": "ipython3",
   "version": "3.11.11"
  }
 },
 "nbformat": 4,
 "nbformat_minor": 5
}
